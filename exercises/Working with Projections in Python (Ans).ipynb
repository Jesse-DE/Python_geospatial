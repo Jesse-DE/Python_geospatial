{
 "metadata": {
  "name": "",
  "signature": "sha256:86778562b6a37aad0f67bf9bd3791f895ab87ea0ee4b4f6141699c141198f424"
 },
 "nbformat": 3,
 "nbformat_minor": 0,
 "worksheets": [
  {
   "cells": [
    {
     "cell_type": "markdown",
     "metadata": {},
     "source": [
      "# Working with Projections in Python\n",
      "## Converting Coordinates\n",
      "\n",
      "Here are the x/y coordinates for the AT&T Executive Education and Conference Center in the local State Plane coordinate reference system:\n",
      "\n",
      "(`721188.5688`, `4272112.7388`)\n",
      "\n",
      "### 1) Figure out the correct State Plane reference zone, and convert the above coordinates to long/lat (`EPSG: 4326`)"
     ]
    },
    {
     "cell_type": "markdown",
     "metadata": {},
     "source": [
      "Here's a quick example to remind you how this works with `PyProj`:"
     ]
    },
    {
     "cell_type": "code",
     "collapsed": false,
     "input": [
      "from pyproj import Proj\n",
      "p = Proj(init='epsg:3857') # This is Web (Google) Mercator"
     ],
     "language": "python",
     "metadata": {},
     "outputs": [],
     "prompt_number": 1
    },
    {
     "cell_type": "code",
     "collapsed": false,
     "input": [
      "p(-97.740372, 30.282642) # These are the correct long/lat coordinates"
     ],
     "language": "python",
     "metadata": {},
     "outputs": [
      {
       "metadata": {},
       "output_type": "pyout",
       "prompt_number": 2,
       "text": [
        "(-10880408.440985134, 3539932.8204972977)"
       ]
      }
     ],
     "prompt_number": 2
    },
    {
     "cell_type": "code",
     "collapsed": false,
     "input": [
      "p(-10880408.440985134, 3539932.8204972977, inverse=True) # These are the coordinates in Web Mercator"
     ],
     "language": "python",
     "metadata": {},
     "outputs": [
      {
       "metadata": {},
       "output_type": "pyout",
       "prompt_number": 3,
       "text": [
        "(-97.740372, 30.282642000000003)"
       ]
      }
     ],
     "prompt_number": 3
    },
    {
     "cell_type": "markdown",
     "metadata": {},
     "source": [
      "There's a handy csv file that contains all state plane coordinate reference systems in the `data` folder. You can load it with `Pandas`."
     ]
    },
    {
     "cell_type": "code",
     "collapsed": false,
     "input": [
      "import pandas as pd\n",
      "import os\n",
      "\n",
      "# Source: http://www.eye4software.com/resources/stateplane/\n",
      "df = pd.read_csv(os.path.join(\"..\", \"data\", \"state_plane_codes.csv\"))"
     ],
     "language": "python",
     "metadata": {},
     "outputs": [
      {
       "output_type": "stream",
       "stream": "stderr",
       "text": [
        "/Users/cfarmer/anaconda/envs/scipygis/lib/python2.7/site-packages/pandas/io/excel.py:626: UserWarning: Installed openpyxl is not supported at this time. Use >=1.6.1 and <2.0.0.\n",
        "  .format(openpyxl_compat.start_ver, openpyxl_compat.stop_ver))\n"
       ]
      }
     ],
     "prompt_number": 4
    },
    {
     "cell_type": "markdown",
     "metadata": {},
     "source": [
      "What about EPSG codes for Texas?\n",
      "\n",
      "Source: http://www.eye4software.com/resources/stateplane/Texas\n",
      "\n",
      "**Hint**: You can use the DataFrame to figure this out..."
     ]
    },
    {
     "cell_type": "code",
     "collapsed": false,
     "input": [
      "df[df.name.str.contains(\"Texas\")]"
     ],
     "language": "python",
     "metadata": {},
     "outputs": [
      {
       "html": [
        "<div style=\"max-height:1000px;max-width:1500px;overflow:auto;\">\n",
        "<table border=\"1\" class=\"dataframe\">\n",
        "  <thead>\n",
        "    <tr style=\"text-align: right;\">\n",
        "      <th></th>\n",
        "      <th>spcs</th>\n",
        "      <th>name</th>\n",
        "      <th>epsg</th>\n",
        "    </tr>\n",
        "  </thead>\n",
        "  <tbody>\n",
        "    <tr>\n",
        "      <th>86 </th>\n",
        "      <td>  4201</td>\n",
        "      <td>         NAD83 / Texas North</td>\n",
        "      <td> 32137</td>\n",
        "    </tr>\n",
        "    <tr>\n",
        "      <th>87 </th>\n",
        "      <td>  4202</td>\n",
        "      <td> NAD83 / Texas North Central</td>\n",
        "      <td> 32138</td>\n",
        "    </tr>\n",
        "    <tr>\n",
        "      <th>88 </th>\n",
        "      <td>  4203</td>\n",
        "      <td>       NAD83 / Texas Central</td>\n",
        "      <td> 32139</td>\n",
        "    </tr>\n",
        "    <tr>\n",
        "      <th>89 </th>\n",
        "      <td>  4204</td>\n",
        "      <td> NAD83 / Texas South Central</td>\n",
        "      <td> 32140</td>\n",
        "    </tr>\n",
        "    <tr>\n",
        "      <th>90 </th>\n",
        "      <td>  4205</td>\n",
        "      <td>         NAD83 / Texas South</td>\n",
        "      <td> 32141</td>\n",
        "    </tr>\n",
        "    <tr>\n",
        "      <th>216</th>\n",
        "      <td> 14201</td>\n",
        "      <td>         NAD27 / Texas North</td>\n",
        "      <td> 32037</td>\n",
        "    </tr>\n",
        "    <tr>\n",
        "      <th>217</th>\n",
        "      <td> 14202</td>\n",
        "      <td> NAD27 / Texas North Central</td>\n",
        "      <td> 32038</td>\n",
        "    </tr>\n",
        "    <tr>\n",
        "      <th>218</th>\n",
        "      <td> 14203</td>\n",
        "      <td>       NAD27 / Texas Central</td>\n",
        "      <td> 32039</td>\n",
        "    </tr>\n",
        "    <tr>\n",
        "      <th>219</th>\n",
        "      <td> 14204</td>\n",
        "      <td> NAD27 / Texas South Central</td>\n",
        "      <td> 32040</td>\n",
        "    </tr>\n",
        "    <tr>\n",
        "      <th>220</th>\n",
        "      <td> 14205</td>\n",
        "      <td>         NAD27 / Texas South</td>\n",
        "      <td> 32041</td>\n",
        "    </tr>\n",
        "  </tbody>\n",
        "</table>\n",
        "</div>"
       ],
       "metadata": {},
       "output_type": "pyout",
       "prompt_number": 5,
       "text": [
        "      spcs                         name   epsg\n",
        "86    4201          NAD83 / Texas North  32137\n",
        "87    4202  NAD83 / Texas North Central  32138\n",
        "88    4203        NAD83 / Texas Central  32139\n",
        "89    4204  NAD83 / Texas South Central  32140\n",
        "90    4205          NAD83 / Texas South  32141\n",
        "216  14201          NAD27 / Texas North  32037\n",
        "217  14202  NAD27 / Texas North Central  32038\n",
        "218  14203        NAD27 / Texas Central  32039\n",
        "219  14204  NAD27 / Texas South Central  32040\n",
        "220  14205          NAD27 / Texas South  32041"
       ]
      }
     ],
     "prompt_number": 5
    },
    {
     "cell_type": "code",
     "collapsed": false,
     "input": [
      "# Austin is the \"South Central Zone\"\n",
      "p = Proj(init=\"epsg:32140\")\n",
      "p(721188.5687689474, 4272112.738754173, inverse=True)"
     ],
     "language": "python",
     "metadata": {},
     "outputs": [
      {
       "metadata": {},
       "output_type": "pyout",
       "prompt_number": 6,
       "text": [
        "(-97.740372, 30.28264199999949)"
       ]
      }
     ],
     "prompt_number": 6
    }
   ],
   "metadata": {}
  }
 ]
}