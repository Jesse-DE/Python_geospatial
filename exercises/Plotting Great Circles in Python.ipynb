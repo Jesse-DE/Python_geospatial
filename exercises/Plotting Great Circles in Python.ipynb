{
 "metadata": {
  "name": "",
  "signature": "sha256:c3c3c978eec3acd7b011db30172352ee735791df27ae599d0fc2e6b67492d6e5"
 },
 "nbformat": 3,
 "nbformat_minor": 0,
 "worksheets": [
  {
   "cells": [
    {
     "cell_type": "markdown",
     "metadata": {},
     "source": [
      "# Great Circles in Python\n",
      "\n",
      "## Working with Projections and Geometries\n",
      "\n",
      "There are plenty of really bad maps of Edward Snowden's movements around the world (like this one from Sky News), and [some good ones](http://oobrien.com/2013/06/snowden-route-maps/). In this exercise, we're going to try to produce a good one using `cartopy`.\n",
      "\n",
      "![Snowden's Route](http://oobrien.com/wp-content/uploads/2013/06/230613-snowden-route-map-v2-final-1-522x293.jpg)"
     ]
    },
    {
     "cell_type": "code",
     "collapsed": false,
     "input": [
      "import matplotlib.pyplot as plt\n",
      "%matplotlib inline\n",
      "import cartopy.crs as ccrs"
     ],
     "language": "python",
     "metadata": {},
     "outputs": []
    },
    {
     "cell_type": "markdown",
     "metadata": {},
     "source": [
      "Here are the coordinates of the various places he is said to have visited on his journey:"
     ]
    },
    {
     "cell_type": "code",
     "collapsed": false,
     "input": [
      "hawaii = (-157.8, 21.3)\n",
      "hongkong = (114.16, 22.28)\n",
      "moscow = (37.62, 55.75)\n",
      "havana = (-82.38, 23.13)\n",
      "caracas = (-66.92, 10.50)\n",
      "quito = (-78.58, -0.25)\n",
      "\n",
      "# Here's a list to make things easier\n",
      "stops = [hawaii, hongkong, moscow, havana, caracas, quito]\n",
      "labels = [\"Hawaii\", \"Hong Kong\", \"Moscow\", \"Havana\", \"Caracas\", \"Quito\"]"
     ],
     "language": "python",
     "metadata": {},
     "outputs": []
    },
    {
     "cell_type": "markdown",
     "metadata": {},
     "source": [
      "### 1) Create a simple features `LineString` using shapely and print the `WKT`"
     ]
    },
    {
     "cell_type": "code",
     "collapsed": false,
     "input": [],
     "language": "python",
     "metadata": {},
     "outputs": []
    },
    {
     "cell_type": "markdown",
     "metadata": {},
     "source": [
      "### 2) Plot a simple map with Great Circle lines for the journey (using background image and coastlines)"
     ]
    },
    {
     "cell_type": "code",
     "collapsed": false,
     "input": [
      "plt.figure(figsize=(8, 8))\n",
      "ax = plt.axes(projection=ccrs.Robinson())\n",
      "ax.set_global()\n",
      "\n",
      "# Your plot commands go here\n",
      "plt.show()"
     ],
     "language": "python",
     "metadata": {},
     "outputs": []
    },
    {
     "cell_type": "markdown",
     "metadata": {},
     "source": [
      "### Bonus) Try to create the same plot with labels\n",
      "\n",
      "See [this example](http://scitools.org.uk/cartopy/docs/latest/examples/eyja_volcano.html) for help with labels and transforms."
     ]
    },
    {
     "cell_type": "code",
     "collapsed": false,
     "input": [
      "from matplotlib.transforms import offset_copy\n",
      "\n",
      "plt.figure(figsize=(8, 8))\n",
      "ax = plt.axes(projection=ccrs.Robinson())\n",
      "ax.set_global()\n",
      "\n",
      "# Your plot commands go here\n",
      "plt.show()"
     ],
     "language": "python",
     "metadata": {},
     "outputs": []
    }
   ],
   "metadata": {}
  }
 ]
}