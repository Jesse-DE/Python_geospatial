{
 "metadata": {
  "name": "",
  "signature": "sha256:b5e4e033d838f474d9b3e5b0e3926dc74163b5d52a76d1b1d63abcdea981f114"
 },
 "nbformat": 3,
 "nbformat_minor": 0,
 "worksheets": [
  {
   "cells": [
    {
     "cell_type": "markdown",
     "metadata": {},
     "source": [
      "# Working with Projections in Python\n",
      "## Converting Coordinates\n",
      "\n",
      "Here are the x/y coordinates for the AT&T Executive Education and Conference Center in the local State Plane coordinate reference system:\n",
      "\n",
      "(`721188.5688`, `4272112.7388`)\n",
      "\n",
      "### 1) Figure out the correct State Plane reference zone, and convert the above coordinates to long/lat (`EPSG: 4326`)"
     ]
    },
    {
     "cell_type": "markdown",
     "metadata": {},
     "source": [
      "Here's a quick example to remind you how this works with `PyProj`:"
     ]
    },
    {
     "cell_type": "code",
     "collapsed": false,
     "input": [
      "from pyproj import Proj\n",
      "p = Proj(init='epsg:3857') # This is Web (Google) Mercator"
     ],
     "language": "python",
     "metadata": {},
     "outputs": []
    },
    {
     "cell_type": "code",
     "collapsed": false,
     "input": [
      "p(-97.740372, 30.282642) # These are the correct long/lat coordinates"
     ],
     "language": "python",
     "metadata": {},
     "outputs": []
    },
    {
     "cell_type": "code",
     "collapsed": false,
     "input": [
      "p(-10880408.440985134, 3539932.8204972977, inverse=True) # These are the coordinates in Web Mercator"
     ],
     "language": "python",
     "metadata": {},
     "outputs": []
    },
    {
     "cell_type": "markdown",
     "metadata": {},
     "source": [
      "There's a handy csv file that contains all state plane coordinate reference systems in the `data` folder. You can load it with `Pandas`."
     ]
    },
    {
     "cell_type": "code",
     "collapsed": false,
     "input": [
      "import pandas as pd\n",
      "import os\n",
      "\n",
      "# Source: http://www.eye4software.com/resources/stateplane/\n",
      "df = pd.read_csv(os.path.join(\"..\", \"data\", \"state_plane_codes.csv\"))"
     ],
     "language": "python",
     "metadata": {},
     "outputs": []
    },
    {
     "cell_type": "markdown",
     "metadata": {},
     "source": [
      "What about EPSG codes for Texas?\n",
      "\n",
      "Source: http://www.eye4software.com/resources/stateplane/Texas\n",
      "\n",
      "**Hint**: You can use the DataFrame to figure this out..."
     ]
    }
   ],
   "metadata": {}
  }
 ]
}